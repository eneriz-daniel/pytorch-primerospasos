{
 "cells": [
  {
   "cell_type": "code",
   "execution_count": 4,
   "metadata": {},
   "outputs": [],
   "source": [
    "%matplotlib inline"
   ]
  },
  {
   "cell_type": "markdown",
   "metadata": {},
   "source": [
    "# Prueba Fully connected para sacar  $e^x$ y $x^2$\n",
    "\n",
    "En este cuaderno nos proponemos usar una red neuronal para obtener las funciones $e^x$ y $x^2$ a partir de una entrada $x$. Para ello vamos a implementar una red neuronal *fully connected* de dos capas ocultas de 10 unidades cada una. En la siguente imagen podemos ver como es la arquitectura.\n",
    "\n",
    "<img src=\"fcnn2h10u.JPG\" alt=\"Drawing\" style=\"width: 500px;\"/>\n",
    "\n",
    "## Generamos el *training set*\n",
    "\n",
    "Comenzamos importando las librerías y generando los datos que vamos a usar para entrenar la red. Usaremos la librería `torch` de Python. Ademas representamos los datos."
   ]
  },
  {
   "cell_type": "code",
   "execution_count": 14,
   "metadata": {},
   "outputs": [
    {
     "data": {
      "image/png": "[encoded data removed]",
      "text/plain": [
       "<Figure size 432x288 with 1 Axes>"
      ]
     },
     "metadata": {
      "needs_background": "light"
     },
     "output_type": "display_data"
    }
   ],
   "source": [
    "import torch #Para las redes neuronales\n",
    "import matplotlib.pyplot as plt #Para plotear\n",
    "\n",
    "N = 100 #Numero de datos a entrenar\n",
    "x = torch.rand(N) #Comenzamos generando N entradas aleatorias entre 0 y 1\n",
    "y_1 = torch.exp(x) #Sacamos su exponencial\n",
    "y_2 = x*x #Sacamos su cuadrado\n",
    "\n",
    "plt.plot(x, y_1, 'rx', label='$e^x$')\n",
    "plt.plot(x, y_2, 'b+', label='$x^2$')\n",
    "plt.legend()\n",
    "plt.show()"
   ]
  },
  {
   "cell_type": "markdown",
   "metadata": {},
   "source": [
    "## Creamos la red\n",
    "\n",
    "En este paso definimos ocmo queremos que sea la red. âra ello vamos a usar el paquete `nn` de `torch`."
   ]
  },
  {
   "cell_type": "code",
   "execution_count": 22,
   "metadata": {},
   "outputs": [],
   "source": [
    "model = torch.nn.Sequential(\n",
    "    torch.nn.Linear(1, 10),   #Pasamos de una entrada a una capa oculata de 10 unidades\n",
    "    torch.nn.Tanh(),          #Usamos la tangente hipervólica como función de activación\n",
    "    torch.nn.Linear(10, 10),  #Pasamos de 10 unidades de capa oculta a otras 10 de la siguente oculta\n",
    "    torch.nn.Tanh(),          #Otra vez tanh\n",
    "    torch.nn.Linear(10, 2),   #Sacamos dos salidas, la primera será la exponencial y la segunda la cuadrado\n",
    "    torch.nn.Tanh(),          #También la tanh\n",
    ")"
   ]
  },
  {
   "cell_type": "markdown",
   "metadata": {},
   "source": []
  }
 ],
 "metadata": {
  "kernelspec": {
   "display_name": "Python 3",
   "language": "python",
   "name": "python3"
  },
  "language_info": {
   "codemirror_mode": {
    "name": "ipython",
    "version": 3
   },
   "file_extension": ".py",
   "mimetype": "text/x-python",
   "name": "python",
   "nbconvert_exporter": "python",
   "pygments_lexer": "ipython3",
   "version": "3.7.4"
  }
 },
 "nbformat": 4,
 "nbformat_minor": 4
}
