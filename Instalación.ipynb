{
 "cells": [
  {
   "cell_type": "markdown",
   "metadata": {},
   "source": [
    "# Instalación del paquete PyTorch\n",
    "Vamos a ver como instalar el paquete PyTorch para Python. Esto está extraido de __[aquí](https://pytorch.org/get-started/locally/)__.\n",
    "\n",
    "## Requisitos previos\n",
    "### Python\n",
    "Para poder instalarlo necesitarás tener Python instalado, preferiblemente la última versión que exista y en la versión de _bits_, de forma que si tu equipo es de 32 bits, por ejemplo, tu versión de Python sea de 32 bits.\n",
    "\n",
    "### pip\n",
    "El gestor de paquetes de Python sirve para instalar paquetes.\n",
    "\n",
    "### Una GPU (opcional)\n",
    "PyTorch optimiza procesos de cálculo matricial usando la GPU de tu ordenador. Si no tienes una no te preocupes, se prodrá ejecutar con la CPU, pero no será tan rápido.\n",
    "En línea con esto, debes conocer CUDA. Es un un leguaje de programación que permite gestionar el cálculo en paralelo de las GPUs. Está desarrollado por NVIDIA. PyTorch lo usa pero no es necesario que sepas programarlo.\n",
    "Si cuentas con una GPU, recuerda actualizar los drivers de ésta. Si eres de NVIDIA aqui tienes la página de __[descargas](https://www.nvidia.es/Download/index.aspx?lang=es)__.\n",
    "\n",
    "## Instalación para Python 3.7\n",
    "Estas lineas de código instalarán la versión de PyTorch 1.0.1 y CUDA 10:\n",
    "```\n",
    "pip3 install https://download.pytorch.org/whl/cu100/torch-1.0.1-cp37-cp37m-win_amd64.whl\n",
    "pip3 install torchvision\n",
    "```\n",
    "\n",
    "## Validación\n",
    "Abre una consola de comandos y escribe `python`. Introduce las siguientes líneas de código (o bien ejecuta la siguiente celda si estás trabjando desde Jupyter). Deberías obtener una salida similar a la que se ve debajo del código."
   ]
  },
  {
   "cell_type": "code",
   "execution_count": 2,
   "metadata": {},
   "outputs": [
    {
     "name": "stdout",
     "output_type": "stream",
     "text": [
      "tensor([[0.6610, 0.9597, 0.9017],\n",
      "        [0.8609, 0.3299, 0.7874],\n",
      "        [0.6748, 0.9881, 0.6561],\n",
      "        [0.9477, 0.6368, 0.3571],\n",
      "        [0.6789, 0.4744, 0.7573]])\n"
     ]
    }
   ],
   "source": [
    "from __future__ import print_function\n",
    "import torch\n",
    "x = torch.rand(5, 3)\n",
    "print(x)"
   ]
  },
  {
   "cell_type": "markdown",
   "metadata": {},
   "source": [
    "Finalmente, también se puede comprobar si puedes usar tu GPU usando CUDA usando el siguiente código:"
   ]
  },
  {
   "cell_type": "code",
   "execution_count": 3,
   "metadata": {},
   "outputs": [
    {
     "data": {
      "text/plain": [
       "True"
      ]
     },
     "execution_count": 3,
     "metadata": {},
     "output_type": "execute_result"
    }
   ],
   "source": [
    "import torch\n",
    "torch.cuda.is_available()"
   ]
  }
 ],
 "metadata": {
  "ipub": {
   "titlepage": {
    "author": "Authors Name",
    "email": "authors@email.com",
    "institution": [
     "Institution1",
     "Institution2"
    ],
    "logo": "path/to/logo_example.png",
    "subtitle": "Sub-Title",
    "supervisors": [
     "First Supervisor",
     "Second Supervisor"
    ],
    "tagline": "A tagline for the report.",
    "title": "Main-Title"
   }
  },
  "kernelspec": {
   "display_name": "Python 3",
   "language": "python",
   "name": "python3"
  },
  "language_info": {
   "codemirror_mode": {
    "name": "ipython",
    "version": 3
   },
   "file_extension": ".py",
   "mimetype": "text/x-python",
   "name": "python",
   "nbconvert_exporter": "python",
   "pygments_lexer": "ipython3",
   "version": "3.7.4"
  },
  "latex_metadata": {
   "affiliation": "Freie Universit\\\"at Berlin, Fachbereich Physik, 14195 Berlin, Germany",
   "author": "Julius C. F. Schulz",
   "title": "Amazing Article"
  }
 },
 "nbformat": 4,
 "nbformat_minor": 4
}
