{
 "cells": [
  {
   "cell_type": "code",
   "execution_count": 1,
   "metadata": {},
   "outputs": [],
   "source": [
    "%matplotlib inline"
   ]
  },
  {
   "cell_type": "markdown",
   "metadata": {},
   "source": [
    "# Red neuronal de $\\sin{x}$\n",
    "\n",
    "En este cuaderno pretendemos entrenar una red neuronal para que saque el seno de la entrada. Para ello hemos escogio una aruiqtectura muy pequeña, de una sóla capa oculta de tres neuronas, tal y como podemos ver en la siguiente figura:\n",
    "\n",
    "<img src=\"img/nn_1-3-1.png\"/>\n",
    "\n",
    "Veamos cómo debemos proceder para poder realizarla con Pytorch.\n",
    "\n",
    "## Librerías\n",
    "\n",
    "Vamos a usar diferentes librerías. Veamos a que dedicamos cada una de ellas:\n",
    "\n",
    "- `torch` y demás variantes: Es la librería que contiene todas las funciones necesarias para virtualizar y entrenar la red. Su módulo `nn` tiene todo lo necesario para construir el modelo. En `nn.funcional` encontramos además un conjunto de funciones para calcular el coste de la red.\n",
    "\n",
    "- `matplotlib.pyplot` para la representación gráfica.\n",
    "\n",
    "- `math` para obtener el valor de $\\pi$\n",
    "\n",
    "- `IPython.display` para obtener el progreso por pantalla del entrenamiento\n",
    "\n",
    "\n"
   ]
  },
  {
   "cell_type": "code",
   "execution_count": 2,
   "metadata": {},
   "outputs": [],
   "source": [
    "import torch\n",
    "import torch.nn as nn\n",
    "import torch.nn.functional as F\n",
    "import matplotlib.pyplot as plt\n",
    "from math import pi\n",
    "from IPython.display import display, clear_output"
   ]
  },
  {
   "cell_type": "markdown",
   "metadata": {},
   "source": [
    "## Parámetros\n",
    "\n",
    "En esta sección vamos a definir los parámetros para configurar la arquitectura de red y los parámtros que intervienen en la simulación.\n",
    "\n",
    "### Parámetros de arquitectura\n",
    "\n",
    "- $D_{in}$, el número de entradas de la red. Deberá  ser igual a 1.\n",
    "- $H$, el número de unidades en la capa oculta. Este será 3.\n",
    "- $D_{out}$, número de salidas de la red. Sólo tendremos una salida en este caso.\n",
    "\n",
    "### Parámetros de entrenamiento\n",
    "\n",
    "- $N$, el número de datos que generamos para el entrenamiento de la red.\n",
    "- $\\delta_{limit}$, `delta_limit` en el código. Cuando el coste cambie menos de este valor durante 100 itearaciones del _training set_ dejaremos de entrenar la red.\n",
    "- $t_{max}$, `epochs` en el código. Es otra manera de limitar el entrenamiento. Aprenderá hasta que alcancemos este número de iteracciones en el código.\n",
    "- $\\alpha$, `learning_rate` en el código. Factor de aprendizaje de la red en cada paso de entrenamiento."
   ]
  },
  {
   "cell_type": "code",
   "execution_count": 3,
   "metadata": {},
   "outputs": [],
   "source": [
    "# D_in numero de entradas;\n",
    "# H numero de neuronas en la capa oculta;\n",
    "#D_out numero de salidas;\n",
    "D_in, H, D_out = 1, 3, 1\n",
    "\n",
    "#N el tamaño del training set; \n",
    "#delta_limit minimo cambio en coste con el que parar la simulación;\n",
    "#epochs numero maximo de iteracciones si estamos con el for;\n",
    "N, delta_limit, epochs, learning_rate = 500, 1e-4, 100000, 1e-4"
   ]
  },
  {
   "cell_type": "markdown",
   "metadata": {},
   "source": [
    "## Generamos el _training set_\n",
    "\n",
    "Debemos generar el _training set_. Dado que queremos que la red nos devuelva $\\sin{x}$ bastará con tener datos de $x$ entre $-\\pi$ y $+\\pi$. Los generamos aleatoriamente con la función `torch.rand()`, que ya nos los devuelve como un tensor de `torch`. Para obtener los datos objetivo (_target_) usamos la función de `torch`, `torch.sin()` que acepta tensores y devuelve tensores. Representamos los datos con `plt.plot()`. "
   ]
  },
  {
   "cell_type": "code",
   "execution_count": 4,
   "metadata": {},
   "outputs": [
    {
     "data": {
      "image/png": "[encoded data removed]",
      "text/plain": [
       "<Figure size 432x288 with 1 Axes>"
      ]
     },
     "metadata": {
      "needs_background": "light"
     },
     "output_type": "display_data"
    }
   ],
   "source": [
    "# Creamos N datos aleatorios entre -pi y pi y calculamos su seno\n",
    "x = 2*pi*torch.rand(N, D_in) - pi\n",
    "y = torch.sin(x)\n",
    "\n",
    "#Representamos graficamente\n",
    "plt.plot(x, y, '+', label='Training set')\n",
    "plt.title('Datos a entrenar')\n",
    "plt.xlabel('$x$')\n",
    "plt.ylabel('$\\sin(x)$')\n",
    "plt.show()"
   ]
  },
  {
   "cell_type": "markdown",
   "metadata": {},
   "source": [
    "## Creamos la red neuronal\n",
    "\n",
    "En esta parte vamos a definir la aruitectura de red con los parámetros previamente definidos. Para ello vamos a crear una clase de Python tomando como base el módulo `torch.nn.Module` de PyTorch. En la primera parte, el _constructor_ (`__init__`), se define el tipo de conexión entre capas. en nuestro caso, que queremos que sea _fully connected_ lo hacemos usando `nn.Linear()`cuyos argumentos son las dimensiones de la capa anterior y de la posterior. Por defecto se define para que esa capa tenga _bias_. En la segunda parte se define la función `forward`. En ésta se define cómo se va a proceder a la hora de realizar la propagación de la señal. Permite conectar las capas definidas en el _constructor_ y definir cuáles son las funciones de activación de las neuronas. Para estas funciones de activación usamos el subpaquete `torch.nn.Functional` que hemos abierto como `F`. En nuestro caso hemo elegido usar la función sigmoidea, $f(x) = \\frac{1}{1+e^{-x}}$. Finalmente, para inicializar el modelo basta con asignarlo a un objeto, en este caso `model`."
   ]
  },
  {
   "cell_type": "code",
   "execution_count": 5,
   "metadata": {},
   "outputs": [],
   "source": [
    "class TwoLayerNet(torch.nn.Module):\n",
    "    def __init__(self, D_in, H, D_out):\n",
    "        \"\"\"\n",
    "        En el 'constructor' inicializamos las capas dandoles \n",
    "        las dimensiones de entrada y salida de cada una de ellas \n",
    "        y las asignamos como variables de la clase\n",
    "        \"\"\"\n",
    "        super(TwoLayerNet, self).__init__()\n",
    "        self.linear1 = nn.Linear(D_in, H)\n",
    "        self.linear2 = nn.Linear(H, D_out)\n",
    "\n",
    "    def forward(self, x):\n",
    "        \"\"\"\n",
    "        En la función de propagación, 'forward', recogemos el\n",
    "        tensor de entrada y configuramos como es su propagación\n",
    "        hasta la salida. Podemos usar las capas definidas en el\n",
    "        'constructor' o realizar cualquier operación sobre él.\n",
    "        En este caso colocamos la función de activación de las\n",
    "        neuronas de la capa oculta. A la salida no hay función\n",
    "        de activación porque queremos obtener el seno.\n",
    "        \"\"\"\n",
    "        x = self.linear1(x)\n",
    "        x = self.linear2(F.sigmoid(x))\n",
    "        return x\n",
    "\n",
    "# Inicializamos el modelo\n",
    "model = TwoLayerNet(D_in, H, D_out)"
   ]
  },
  {
   "cell_type": "markdown",
   "metadata": {},
   "source": [
    "## Funciones de coste y optimizador\n",
    "\n",
    "En esta parte vamos a aprovechar el músculo que nos ofrece la librería `torch`. Recoge un montón de posibilidades tanto a la hora de calcular el coste, $J$, de la red como para optimizar el entrenamiento de ésta. Para el coste vamos a elegir una de las más habituales, la de la suma de las diferencias al cuadrado, `torch.nn.MSELoss(reduction='sum')` aunque PyTorch cuenta con muchas [mas](https://pytorch.org/docs/stable/nn.html#loss-functions).\n",
    "\n",
    "Por otro lado tenemos el optmizador, el cual nos engloba la parte del aprendizaje de la red. Podemos elegir diferentes algoritmos entre [los que ofrece PyTorch](https://pytorch.org/docs/stable/optim.html#algorithms), en  nuestro caso hemos elegido el grandiente descendiente estocástico (`torch.optim.SGD()`). "
   ]
  },
  {
   "cell_type": "code",
   "execution_count": 6,
   "metadata": {},
   "outputs": [],
   "source": [
    "# Declaramos la función de coste y el optimizador. A este\n",
    "#último le debemos pasar los parámetros del modelo para \n",
    "#que los actualice en cada paso de aprendizaje.\n",
    "criterion = torch.nn.MSELoss(reduction='sum')\n",
    "optimizer = torch.optim.SGD(model.parameters(), lr=learning_rate)"
   ]
  },
  {
   "cell_type": "markdown",
   "metadata": {},
   "source": [
    "## Aprendizaje\n",
    "\n",
    "En esta fase vamos a ver como se da el aprendizaje de la red. Una de las primeras cosas que debemos elegir es cómo cortar este aprendijaze. Dado que vamos a entrenar la red sobre el mismo _training set_ varias veces (del orden de unas $10^5$ por lo menos), es bueno que sepamos cuando es hora de parar. La forma más bruta pero también la más basica es utilizar un bucle hasta que se llegue al número máximo de iteraciones que se pedia en los parámetros del principio. Esto se podría hacer con una línea de bucle como `for t in range(epochs):`. Pero nosotros queremos ser más sutiles. En nuestro caso hemos optado por definir un indicador de cómo de bien la red está aprendiendo. Para ello cada 100 iteracciones de aprendizaje sobre el _training set_ vamos a calular $\\delta = J_{t-100} - J_t$. Donde $J_t$ es el coste de la red en la iteracción $t$. Como hemos definido en los parámetros de más arriba uno que era $\\delta_{limit}$ cuando $\\delta$ baje de este valor, pararemos el apredizaje.\n",
    "\n",
    "Así pues, en las primeras líneas de código inicializamos varias variables que nos permiten entrar en esta dinámica para calcular las $\\delta$. A partir de la línea del `while` entramos en la dinámica del aprendizaje. Lo primero que se hace es calcular las predicciones del modelo para las entradas, `y_pred = model(x)`. Como se puede ver se calculan todas de golpe, en vez de una a una, como podría pensarse a priori. Una vez obtenidas las predicciones, obtenemos el coste `loss`con el critetio seleccionado en la sección de más arriba. A continuación encontramos un condicional que nos permite sacar información de vez en cuando y nos limita la evaluación de $\\delta$ cada 100 iteracciones. Después ponemos a cero el contador de gradientes con la instancia `optimizer.zero_grad()`, algo necesario porque no se puede hacer dos retropropagaciones seguidas. Luego retropropagamos con la instancia `loss.backward()` y finalmente le decimos al optmizador que proceda a dar un paso de arendizaje con `optimizer.step()`.\n",
    "\n",
    "Una vez realizado el aprendizaje guardamos el modelo con la instancia `torch.save(model.state_dict(), 'PATH')`."
   ]
  },
  {
   "cell_type": "code",
   "execution_count": 7,
   "metadata": {},
   "outputs": [
    {
     "data": {
      "text/plain": [
       "'Epoch: 307700, Delta: 0.0001, Loss: 0.311'"
      ]
     },
     "metadata": {},
     "output_type": "display_data"
    }
   ],
   "source": [
    "t=0 #Inicializamos el contador de iteracciones\n",
    "loss_viejo = 1000 #Inicalizamos el coste  viejo para que la primera delta se pueda calcular\n",
    "delta = 100 #Inicializamos delta para que podamos entrar en el bucle\n",
    "#for t in range(epochs):\n",
    "while delta>delta_limit: #Hasta que no lleguemos a la delta_limit iteramos:\n",
    "    \n",
    "    y_pred = model(x) #Obtenemos las precciones del modelo\n",
    "\n",
    "    \n",
    "    loss = criterion(y_pred, y) #Calculamos el coste\n",
    "    \n",
    "    if t % 100 == 0: #Cada 100 iteracciones hacemos:\n",
    "        delta = loss_viejo - loss.item() #El caclulo de delta\n",
    "        loss_viejo = loss.item() #Guardamos el coste actual ara el futuro calculo de delta\n",
    "        clear_output(wait=True) #esto nos permite actulizar los datos de pantalla unos sobre otros\n",
    "        display('Epoch: '+str(t)+', Delta: ' + '{:06.4f}'.format(delta) + ', Loss: '+'{:05.3f}'.format(loss.item())) \n",
    "        #Sacamos la info cruda por pantalla\n",
    "        \n",
    "    optimizer.zero_grad() #Ajustamos a cero los gradientes\n",
    "    loss.backward() #Retro propagamos\n",
    "    optimizer.step() #Hacemos un paso de aprendijaze\n",
    "\n",
    "    t=t+1 #Actualizamos el contador de iteracciones\n",
    "\n",
    "\n",
    "torch.save(model.state_dict(), './seno_nn_model.pth') #Guardamos el modelo"
   ]
  },
  {
   "cell_type": "markdown",
   "metadata": {},
   "source": [
    "## _Test set_\n",
    "\n",
    "En esta sección de código encontramos lo necesario para representar el training set y el test set del cuál generamos las salidas ahí mismo con la instancia `y_test = model(x_test)`."
   ]
  },
  {
   "cell_type": "code",
   "execution_count": 8,
   "metadata": {},
   "outputs": [
    {
     "data": {
      "image/png": "[encoded data removed]",
      "text/plain": [
       "<Figure size 460.8x230.4 with 1 Axes>"
      ]
     },
     "metadata": {
      "needs_background": "light"
     },
     "output_type": "display_data"
    }
   ],
   "source": [
    "with torch.no_grad(): #Sin tener en cuenta los gradientes de las siguientes operaciones:\n",
    "    N_inter = 100 #Número de puntos en el test set\n",
    "    x_test = torch.arange(-pi, pi, 2*pi/N_inter).view(N_inter, 1) #Generamos el test set\n",
    "    y_test = model(x_test)\n",
    "    \n",
    "    #Ploteamos el training set y el test set\n",
    "    plt.figure(figsize=(6.4, 3.2))\n",
    "    plt.plot(x, y, '+', label='Training set')\n",
    "    plt.plot(x_test, y_test, '-', label='Test set')\n",
    "    plt.title('Seno: $SME_{sum}='+'{:05.3f}'.format(loss.item())+'$')\n",
    "    plt.xlabel('$x$')\n",
    "    plt.ylabel('$\\sin(x)$')\n",
    "    plt.legend(loc='best')\n",
    "    plt.savefig('seno_nn.png', dpi=600)\n",
    "    plt.show()"
   ]
  },
  {
   "cell_type": "markdown",
   "metadata": {},
   "source": [
    "## ¿Cuáles son los parámetros de mi red?\n",
    "\n",
    "Aquí vemos cual es la sintaxis para obtener los pesos de la red:"
   ]
  },
  {
   "cell_type": "code",
   "execution_count": 9,
   "metadata": {},
   "outputs": [
    {
     "name": "stdout",
     "output_type": "stream",
     "text": [
      "linear1.weight tensor([[-1.6238],\n",
      "        [ 2.0432],\n",
      "        [-0.4475]])\n",
      "linear1.bias tensor([-0.9567, -1.7998, -0.0902])\n",
      "linear2.weight tensor([[-4.9675,  2.7366, 12.2744]])\n",
      "linear2.bias tensor([-4.8591])\n"
     ]
    }
   ],
   "source": [
    "for name, param in model.named_parameters():\n",
    "    if param.requires_grad:\n",
    "        print(name, param.data)"
   ]
  },
  {
   "cell_type": "markdown",
   "metadata": {},
   "source": [
    "## ¿Qué hay mas allá del _training set_?\n",
    "\n",
    "Vamos a explorar que pasa si nos salimos de la zona en la que hemos entrenado el modelo, es decir fuera del rango $(-\\pi, \\pi)$."
   ]
  },
  {
   "cell_type": "code",
   "execution_count": 10,
   "metadata": {},
   "outputs": [
    {
     "data": {
      "image/png": "[encoded data removed]",
      "text/plain": [
       "<Figure size 432x288 with 1 Axes>"
      ]
     },
     "metadata": {
      "needs_background": "light"
     },
     "output_type": "display_data"
    }
   ],
   "source": [
    "with torch.no_grad():\n",
    "    N_inter = 200 #Número de puntos en el set\n",
    "    x_ext = torch.arange(-20, 20, 40/N_inter).view(N_inter, 1) #Generamos el set\n",
    "    y_ext = model(x_ext)\n",
    "\n",
    "    #Ploteamos el set de fuera de rango\n",
    "    plt.figure()\n",
    "    plt.plot(x_ext, y_ext, 'g-')\n",
    "    plt.title('Seno: Fuera de rango')\n",
    "    plt.xlabel('$x$')\n",
    "    plt.ylabel('$Modelo(x)$')\n",
    "    plt.savefig('seno_nn_outofrange.png', dpi=600)\n",
    "    plt.show()"
   ]
  },
  {
   "cell_type": "markdown",
   "metadata": {},
   "source": [
    "## ¿Cómo puedo entrenar mi red en una GPU?\n",
    "\n",
    "En esta parte vamos a exlplorar el uso de otras unidades de procesamiento, las GPUs frente a lo que hemos usado hasta ahora en el programa, las CPUs. Para ello primero debemos conocer si nuestro equipo cuenta con una GPU y tenemos todo preparado para usarla con PyTorch. El siguiente código nos dirá si es así. Si cuentas con una GPU pero te dice que no es compatible con CUDA puedes encontrar una posible solución siguiente [esta instalación.]()"
   ]
  },
  {
   "cell_type": "code",
   "execution_count": 11,
   "metadata": {},
   "outputs": [
    {
     "name": "stdout",
     "output_type": "stream",
     "text": [
      "El dispositivo que se usará a partir de ahora es GeForce 840M\n"
     ]
    }
   ],
   "source": [
    "if torch.cuda.is_available(): \n",
    "    print('El dispositivo que se usará a partir de ahora es ' + torch.cuda.get_device_name(0))\n",
    "    device = torch.device(\"cuda:0\")\n",
    "else:\n",
    "    print('Tu equipo no cuenta con un dispositivo compatible con CUDA')\n",
    "    device = torch.device(\"cpu\")"
   ]
  },
  {
   "cell_type": "markdown",
   "metadata": {},
   "source": [
    "### Lanzamos el modelo sobre la GPU\n",
    "\n",
    "Debes tener en cuenta que uso de la GPU se nota cuando los modelos de red son mucho mas complejos que el que hemos usado, pero aun así este ejemplo puede servir de como se podría usar para entrenar una red. Simplemnete usamos el atributo `.to(device)` para pasar el modelo, el _training set_ y el criterio de cómputo de coste a la GPU que previamente hemos definido como `device`. Otro detalle es que nose puede convertir directametne un tensor alojado en la GPU a un array de `numpy` para ser _ploteado_, por ello es necesario pasarlo pirmero a la CPU usando el atributo `.cpu()`. El resto de sintaxis es la misma."
   ]
  },
  {
   "cell_type": "code",
   "execution_count": 12,
   "metadata": {},
   "outputs": [
    {
     "data": {
      "text/plain": [
       "'Epoch: 99900, Delta: 100.0000, Loss: 1.044'"
      ]
     },
     "metadata": {},
     "output_type": "display_data"
    },
    {
     "data": {
      "image/png": "[encoded data removed]",
      "text/plain": [
       "<Figure size 432x288 with 1 Axes>"
      ]
     },
     "metadata": {
      "needs_background": "light"
     },
     "output_type": "display_data"
    }
   ],
   "source": [
    "model = (TwoLayerNet(D_in, H, D_out)).to(device)\n",
    "x = x.to(device)\n",
    "y = y.to(device)\n",
    "\n",
    "criterion = criterion.to(device)\n",
    "optimizer = torch.optim.SGD(model.parameters(), lr=learning_rate)\n",
    "\n",
    "t = 0 #Inicializamos el contador de iteracciones\n",
    "loss_viejo = 1000 #Inicalizamos el coste  viejo para que la primera delta se pueda calcular\n",
    "delta = 100 #Inicializamos delta para que podamos entrar en el bucle\n",
    "for t in range(epochs):\n",
    "#while delta>delta_limit: #Hasta que no lleguemos a la delta_limit iteramos:\n",
    "    \n",
    "    y_pred = model(x) #Obtenemos las precciones del modelo\n",
    "\n",
    "    \n",
    "    loss = criterion(y_pred, y) #Calculamos el coste\n",
    "    \n",
    "    if t % 100 == 0: #Cada 100 iteracciones hacemos:\n",
    "        #delta = loss_viejo - loss.item() #El caclulo de delta\n",
    "        #loss_viejo = loss.item() #Guardamos el coste actual ara el futuro calculo de delta\n",
    "        clear_output(wait=True) #esto nos permite actulizar los datos de pantalla unos sobre otros\n",
    "        display('Epoch: '+str(t)+', Delta: ' + '{:06.4f}'.format(delta) + ', Loss: '+'{:05.3f}'.format(loss.item())) \n",
    "        #Sacamos la info cruda por pantalla\n",
    "        \n",
    "    optimizer.zero_grad() #Ajustamos a cero los gradientes\n",
    "    loss.backward() #Retro propagamos\n",
    "    optimizer.step() #Hacemos un paso de aprendijaze\n",
    "\n",
    "    t=t+1 #Actualizamos el contador de iteracciones\n",
    "\n",
    "with torch.no_grad(): #Sin tener en cuenta los gradientes de las siguientes operaciones:\n",
    "    N_inter = 100 #Número de puntos en el test set\n",
    "    x_test = (torch.arange(-pi, pi, 2*pi/N_inter).view(N_inter, 1)).to(device) #Generamos el test set\n",
    "    y_test = model(x_test).to(device)\n",
    "    \n",
    "    #Ploteamos el training set y el test set\n",
    "    plt.figure()\n",
    "    plt.plot(x.cpu(), y.cpu(), '+', label='Training set')\n",
    "    plt.plot(x_test.cpu(), y_test.cpu(), '-', label='Test set')\n",
    "    plt.title('Seno: $SME_{sum}='+'{:05.3f}'.format(loss.item())+'$')\n",
    "    plt.xlabel('$x$')\n",
    "    plt.ylabel('$\\sin(x)$')\n",
    "    plt.legend(loc='best')\n",
    "    plt.savefig('seno_nn_gpu.png', dpi=600)\n",
    "    plt.show()"
   ]
  }
 ],
 "metadata": {
  "kernelspec": {
   "display_name": "Python 3",
   "language": "python",
   "name": "python3"
  },
  "language_info": {
   "codemirror_mode": {
    "name": "ipython",
    "version": 3
   },
   "file_extension": ".py",
   "mimetype": "text/x-python",
   "name": "python",
   "nbconvert_exporter": "python",
   "pygments_lexer": "ipython3",
   "version": "3.7.4"
  }
 },
 "nbformat": 4,
 "nbformat_minor": 4
}
